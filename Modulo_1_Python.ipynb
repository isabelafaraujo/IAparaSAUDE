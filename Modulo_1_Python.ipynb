{
  "nbformat": 4,
  "nbformat_minor": 0,
  "metadata": {
    "colab": {
      "name": "Modulo 1 - Python.ipynb",
      "provenance": [],
      "collapsed_sections": [],
      "authorship_tag": "ABX9TyPsCmI+LxLbtFfCoPyIo1Zz"
    },
    "kernelspec": {
      "name": "python3",
      "display_name": "Python 3"
    }
  },
  "cells": [
    {
      "cell_type": "markdown",
      "metadata": {
        "id": "d1Js8W4bcQsD",
        "colab_type": "text"
      },
      "source": [
        "Revisão de comandos básicos de Python \n"
      ]
    },
    {
      "cell_type": "code",
      "metadata": {
        "id": "OymlQ-qYcNTJ",
        "colab_type": "code",
        "colab": {}
      },
      "source": [
        "#strings \n",
        "\n",
        "texto = \"Uso 'de aspas'\"\n",
        "\n",
        "#slicing\n",
        "texto[:10] #tudo até o 10\n",
        "texto[10:] #tudo depois do 10\n",
        "\n",
        "\"Palavra\" == \"palavra\" #false \n",
        "\"Palavra\".lower() == \"palavra\".lower() #true\n",
        "\n",
        "texto.split() #separa por espaço\n",
        "texto.split('s') #separa pelo parâmetro\n",
        "texto.split() \n",
        "\n",
        "texto_espacado = \"        teste de frease   \"\n",
        "texto_espacado.strip() #\"pré processamento\"\n",
        "\n",
        "#fstring\n",
        "altura = 1.56\n",
        "print(f'Minha altura é altura {altura}') #{} para variável\n",
        "print('Minha altura é altura {altura}')\n",
        "\n",
        "!git push -u origin master"
      ],
      "execution_count": null,
      "outputs": []
    },
    {
      "cell_type": "markdown",
      "metadata": {
        "id": "NQIO0eWMcVY9",
        "colab_type": "text"
      },
      "source": [
        "Revisão de lista"
      ]
    },
    {
      "cell_type": "code",
      "metadata": {
        "id": "RZ-o7MXBcP9R",
        "colab_type": "code",
        "colab": {}
      },
      "source": [
        "lista = [1,2,5,10,60,999]\n",
        "lista[1:3] #último número é um valor aberto\n",
        "len(lista)\n",
        "lista.reverse() #muda a própria lista\n",
        "#print(lista) \n",
        "lista.count(10)#conta quantos itens desse tem na lista\n",
        "\n",
        "lista1 = [1,2,3,4,5]\n",
        "lista2 = [100,200,300,400,500]\n",
        "\n",
        "lista1.append(lista2) #cria uma lista dentro de uma lista \n",
        "#print(lista1)\n",
        "\n",
        "lista1 = [1,2,3,4,5]\n",
        "lista2 = [100,200,300,400,500]\n",
        "\n",
        "lista1.extend(lista2) #insere a lista 1 dentro da lista 2\n",
        "print(lista1)"
      ],
      "execution_count": null,
      "outputs": []
    },
    {
      "cell_type": "markdown",
      "metadata": {
        "id": "iBTHnSNFcabB",
        "colab_type": "text"
      },
      "source": [
        "Numpy"
      ]
    },
    {
      "cell_type": "code",
      "metadata": {
        "id": "3uYXQsUQcb4s",
        "colab_type": "code",
        "colab": {}
      },
      "source": [
        "import numpy as np\n",
        "\n",
        "array2d = np.array([[1,2,3,4,5],\n",
        "                    [6,7,8,9,10]])\n",
        "type(array2d)\n",
        "array2d\n",
        "array2d.shape #mostra dimensões: linhas x colunas\n",
        "\n",
        "array2d[0] #primeira linha\n",
        "array2d[0,1] #primeira linha e segundo elemento\n",
        "\n",
        "#multiplicar todos elementos por um número\n",
        "array2d2 = array2d*2\n",
        "#print(array2d2)\n",
        "\n",
        "#matriz de zeros\n",
        "np.zeros((4,6))\n",
        "\n",
        "#matriz identidade\n",
        "np.eye"
      ],
      "execution_count": null,
      "outputs": []
    }
  ]
}