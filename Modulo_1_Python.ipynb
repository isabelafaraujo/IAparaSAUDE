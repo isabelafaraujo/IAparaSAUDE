{
  "nbformat": 4,
  "nbformat_minor": 0,
  "metadata": {
    "colab": {
      "name": "Modulo 1 - Python.ipynb",
      "provenance": [],
      "collapsed_sections": [],
      "authorship_tag": "ABX9TyNw2Ait9N3oGnpzFFU7qbBV",
      "include_colab_link": true
    },
    "kernelspec": {
      "name": "python3",
      "display_name": "Python 3"
    }
  },
  "cells": [
    {
      "cell_type": "markdown",
      "metadata": {
        "id": "view-in-github",
        "colab_type": "text"
      },
      "source": [
        "<a href=\"https://colab.research.google.com/github/isabelafaraujo/IAparaSAUDE/blob/master/Modulo_1_Python.ipynb\" target=\"_parent\"><img src=\"https://colab.research.google.com/assets/colab-badge.svg\" alt=\"Open In Colab\"/></a>"
      ]
    },
    {
      "cell_type": "markdown",
      "metadata": {
        "id": "d1Js8W4bcQsD",
        "colab_type": "text"
      },
      "source": [
        "Revisão de comandos básicos de Python \n"
      ]
    },
    {
      "cell_type": "code",
      "metadata": {
        "id": "OymlQ-qYcNTJ",
        "colab_type": "code",
        "colab": {}
      },
      "source": [
        "#strings \n",
        "\n",
        "texto = \"Uso 'de aspas'\"\n",
        "\n",
        "#slicing\n",
        "texto[:10] #tudo até o 10\n",
        "texto[10:] #tudo depois do 10\n",
        "\n",
        "\"Palavra\" == \"palavra\" #false \n",
        "\"Palavra\".lower() == \"palavra\".lower() #true\n",
        "\n",
        "texto.split() #separa por espaço\n",
        "texto.split('s') #separa pelo parâmetro\n",
        "texto.split() \n",
        "\n",
        "texto_espacado = \"        teste de frease   \"\n",
        "texto_espacado.strip() #\"pré processamento\"\n",
        "\n",
        "#fstring\n",
        "altura = 1.56\n",
        "print(f'Minha altura é altura {altura}') #{} para variável\n",
        "print('Minha altura é altura {altura}')\n",
        "\n",
        "!git push -u origin master"
      ],
      "execution_count": null,
      "outputs": []
    },
    {
      "cell_type": "markdown",
      "metadata": {
        "id": "NQIO0eWMcVY9",
        "colab_type": "text"
      },
      "source": [
        "Revisão de lista"
      ]
    },
    {
      "cell_type": "code",
      "metadata": {
        "id": "RZ-o7MXBcP9R",
        "colab_type": "code",
        "colab": {}
      },
      "source": [
        "lista = [1,2,5,10,60,999]\n",
        "lista[1:3] #último número é um valor aberto\n",
        "len(lista)\n",
        "lista.reverse() #muda a própria lista\n",
        "#print(lista) \n",
        "lista.count(10)#conta quantos itens desse tem na lista\n",
        "\n",
        "lista1 = [1,2,3,4,5]\n",
        "lista2 = [100,200,300,400,500]\n",
        "\n",
        "lista1.append(lista2) #cria uma lista dentro de uma lista \n",
        "#print(lista1)\n",
        "\n",
        "lista1 = [1,2,3,4,5]\n",
        "lista2 = [100,200,300,400,500]\n",
        "\n",
        "lista1.extend(lista2) #insere a lista 1 dentro da lista 2\n",
        "print(lista1)"
      ],
      "execution_count": null,
      "outputs": []
    },
    {
      "cell_type": "markdown",
      "metadata": {
        "id": "iBTHnSNFcabB",
        "colab_type": "text"
      },
      "source": [
        "Numpy"
      ]
    },
    {
      "cell_type": "code",
      "metadata": {
        "id": "3uYXQsUQcb4s",
        "colab_type": "code",
        "colab": {}
      },
      "source": [
        "import numpy as np\n",
        "\n",
        "array2d = np.array([[1,2,3,4,5],\n",
        "                    [6,7,8,9,10]])\n",
        "type(array2d)\n",
        "array2d\n",
        "array2d.shape #mostra dimensões: linhas x colunas\n",
        "\n",
        "array2d[0] #primeira linha\n",
        "array2d[0,1] #primeira linha e segundo elemento\n",
        "\n",
        "#multiplicar todos elementos por um número\n",
        "array2d2 = array2d*2\n",
        "#print(array2d2)\n",
        "\n",
        "#matriz de zeros\n",
        "np.zeros((4,6))\n",
        "\n",
        "#matriz identidade\n",
        "np.eye(5)\n",
        "\n",
        "#random\n",
        "np.random.random((5,5))\n",
        "\n",
        "#arrange/lista/intervalo\n",
        "np.arange(10,100,5) #arrange de 10 a 100 de 5 em 5 passos\n",
        "\n",
        "#linspace/lista/quantidade de termos (faz a divisão de intervalos iguais)\n",
        "np.linspace(0,10,11) #números de 0 a 10 com 11 termos\n",
        "\n",
        "array = np.linspace(1,10,10)\n",
        "array\n",
        "\n",
        "array.reshape(2,5) #muda de uma linha com 10 colunas para 2 linhas com 5 colunas \n"
      ],
      "execution_count": null,
      "outputs": []
    },
    {
      "cell_type": "markdown",
      "metadata": {
        "id": "HQz3lha0g35S",
        "colab_type": "text"
      },
      "source": [
        "Matrizes\n"
      ]
    },
    {
      "cell_type": "code",
      "metadata": {
        "id": "LEAgYkmSg7fx",
        "colab_type": "code",
        "colab": {}
      },
      "source": [
        "array1 = np.arange(1,100,5)\n",
        "array1 = array1.reshape(4,5)\n",
        "array1\n",
        "\n",
        "array2 = np.arange(101,150,5)\n",
        "array2 = array2.reshape(5,2)\n",
        "array2\n",
        "\n",
        "#produto escalar \n",
        "\n",
        "array_dot = np.dot(array1,array2)\n",
        "array_dot\n"
      ],
      "execution_count": null,
      "outputs": []
    },
    {
      "cell_type": "markdown",
      "metadata": {
        "id": "O_65WFosjdZV",
        "colab_type": "text"
      },
      "source": [
        "Estatística"
      ]
    },
    {
      "cell_type": "code",
      "metadata": {
        "id": "XK4Tw9uuje28",
        "colab_type": "code",
        "colab": {}
      },
      "source": [
        "#media\n",
        "array2d.mean()\n",
        "array2d[0].mean() #media da primeira linha\n",
        "\n",
        "#desvio padrão\n",
        "array2d.std()"
      ],
      "execution_count": null,
      "outputs": []
    },
    {
      "cell_type": "markdown",
      "metadata": {
        "id": "_BlS7kznkAoT",
        "colab_type": "text"
      },
      "source": [
        "Pandas"
      ]
    },
    {
      "cell_type": "code",
      "metadata": {
        "id": "vZm-5-ZPkBcw",
        "colab_type": "code",
        "colab": {}
      },
      "source": [
        "import pandas as pd\n",
        "import numpy as np \n",
        "\n",
        "#series = dataframe de uma dimensão\n",
        "lista = np.linspace(0,1000,101)\n",
        "serie = pd.Series(lista) #objetivo tipo serie pandas\n",
        "\n",
        "#dataframes\n",
        "dicdf={'Coluna 1': [1,2,3,4,5,6,7,8,9,10], 'Coluna 2':[6,7,8,9,10,11,12,13,14,15]}\n",
        "df = pd.DataFrame(dicdf)\n",
        "#df.head() #5 primeiras linhas\n",
        "#df.tail() #5 ultimas linhas \n"
      ],
      "execution_count": null,
      "outputs": []
    },
    {
      "cell_type": "code",
      "metadata": {
        "id": "UqUBoEFyaWAt",
        "colab_type": "code",
        "colab": {}
      },
      "source": [
        "#!wget \"https://raw.githubusercontent.com/laderast/cvdNight1/master/data/fullPatientData.csv\""
      ],
      "execution_count": null,
      "outputs": []
    },
    {
      "cell_type": "code",
      "metadata": {
        "id": "Ugj4A_HMaqrM",
        "colab_type": "code",
        "colab": {
          "base_uri": "https://localhost:8080/",
          "height": 36
        },
        "outputId": "e5bad904-dad0-418f-81f6-bd3e56ff8781"
      },
      "source": [
        "df = pd.read_csv('fullPatientData.csv')\n",
        "#df.head()\n",
        "#df.shape #tamanho dos dados"
      ],
      "execution_count": 11,
      "outputs": [
        {
          "output_type": "execute_result",
          "data": {
            "text/plain": [
              "(446203, 13)"
            ]
          },
          "metadata": {
            "tags": []
          },
          "execution_count": 11
        }
      ]
    },
    {
      "cell_type": "markdown",
      "metadata": {
        "id": "gkIJQmkubNnx",
        "colab_type": "text"
      },
      "source": [
        "Operações com os dados"
      ]
    },
    {
      "cell_type": "code",
      "metadata": {
        "id": "LpxTmbJBbQZ7",
        "colab_type": "code",
        "colab": {
          "base_uri": "https://localhost:8080/",
          "height": 111
        },
        "outputId": "8c6fc788-e132-4b00-bacb-fcd255d8e30c"
      },
      "source": [
        "#df.info() #informações dos dados \n",
        "#importante olhar 'Non-Null pra saber se tem algum dado nulo \n",
        "#df.columns #lista colunas e é possível fazer for nessas colunas com esse método\n",
        "#df['patientID'].nunique() #quantos linhas da coluna patientID são únicas\n",
        "#df.isnull() #valores nulos\n",
        "#df.isnull().sum() #quantos valores nulos tem por colunas\n",
        "#df.corr() #correlação entre os dados\n",
        "df['race'].unique() #quais elementos aparecem em race\n",
        "df['race'].value_counts() #quantos elementos de cada que aparecem em race"
      ],
      "execution_count": 22,
      "outputs": [
        {
          "output_type": "execute_result",
          "data": {
            "text/plain": [
              "White         335201\n",
              "Asian/PI       84840\n",
              "Black/AfAm     23722\n",
              "AmInd           2440\n",
              "Name: race, dtype: int64"
            ]
          },
          "metadata": {
            "tags": []
          },
          "execution_count": 22
        }
      ]
    }
  ]
}